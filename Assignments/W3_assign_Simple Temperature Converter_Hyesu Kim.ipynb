{
 "cells": [
  {
   "cell_type": "code",
   "execution_count": null,
   "metadata": {},
   "outputs": [],
   "source": [
    "import tkinter as tk\n",
    "from tkinter import messagebox\n",
    "\n",
    "def Celsius(C):\n",
    "    C = float(C)\n",
    "    F = (C*9/5) + 32\n",
    "    return F\n",
    "\n",
    "def Convert():\n",
    "    c = entry.get()\n",
    "    result = Celsius(c)\n",
    "    Label_result.config(text=f\"The Fahrenheit degree is {result}\")\n",
    "\n",
    "\n",
    "\n",
    "\n",
    "\n",
    "root = tk.Tk()\n",
    "root.title(\"Temperature Converter\")\n",
    "root.geometry(\"600x400\")\n",
    "\n",
    "label = tk.Label(root, text=\"Input Celsius:\")\n",
    "label.grid(row=0, column=0, padx=3, pady=3)\n",
    "\n",
    "entry = tk.Entry(root, width=20)\n",
    "entry.grid(row=0, column=1, padx=3, pady=3)\n",
    "\n",
    "Button = tk.Button(root, text=\"Convert\",command=Convert)\n",
    "Button.grid(row=0, column=2, padx=3, pady=3)\n",
    "\n",
    "Label_result = tk.Label(root)\n",
    "Label_result.grid(row=2, column=0,padx=3, pady=3, columnspan=3)\n",
    "\n",
    "\n",
    "root.mainloop()\n"
   ]
  }
 ],
 "metadata": {
  "kernelspec": {
   "display_name": "CodingClass2025",
   "language": "python",
   "name": "python3"
  },
  "language_info": {
   "codemirror_mode": {
    "name": "ipython",
    "version": 3
   },
   "file_extension": ".py",
   "mimetype": "text/x-python",
   "name": "python",
   "nbconvert_exporter": "python",
   "pygments_lexer": "ipython3",
   "version": "3.11.9"
  }
 },
 "nbformat": 4,
 "nbformat_minor": 2
}
