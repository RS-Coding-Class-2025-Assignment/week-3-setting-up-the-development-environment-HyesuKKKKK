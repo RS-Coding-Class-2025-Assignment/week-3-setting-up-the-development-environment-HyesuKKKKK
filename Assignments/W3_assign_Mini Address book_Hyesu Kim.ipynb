{
 "cells": [
  {
   "cell_type": "code",
   "execution_count": 28,
   "metadata": {},
   "outputs": [],
   "source": [
    "import tkinter as tk\n",
    "from tkinter import Listbox\n",
    "\n",
    "def add_contact():\n",
    "    n = entry_name.get()\n",
    "    p = entry_ph.get()\n",
    "    contact_str= f\"{n} - {p}\"\n",
    "    contact_list.insert(tk.END, contact_str)\n",
    "\n",
    "def reset_field():\n",
    "    entry_name.delete(0,tk.END)\n",
    "    entry_ph.delete(0,tk.END)\n",
    "    \n",
    "\n",
    "root = tk.Tk()\n",
    "root.title(\"Mini Address Book\")\n",
    "root.geometry(\"600x400\")\n",
    "\n",
    "Label = tk.Label(root, text=\"Address Book\")\n",
    "Label.grid(row=0, column=0, columnspan=4)\n",
    "\n",
    "Label_name = tk.Label(root, text=\"Name\")\n",
    "Label_name.grid(row=1, column=0)\n",
    "entry_name = tk.Entry(root)\n",
    "entry_name.grid(row=2,column=0, padx=5, pady = 5)\n",
    "\n",
    "Label_ph = tk.Label(root, text=\"Phone Number\")\n",
    "Label_ph.grid(row=1,column=1)\n",
    "entry_ph = tk.Entry(root)\n",
    "entry_ph.grid(row=2, column=1,padx=5, pady=5)\n",
    "\n",
    "Button = tk.Button(root, text=\"Add Contact\", command=add_contact)\n",
    "Button.grid(row=2, column=2,padx=5, pady=5)\n",
    "\n",
    "button_clr=tk.Button(root, text=\"Clear Fields\",command=reset_field)\n",
    "button_clr.grid(row=2,column=3,padx=5, pady=5)\n",
    "\n",
    "contact_list = tk.Listbox(root, width=70)\n",
    "contact_list.grid(row=4, column=0, columnspan=4, padx=5, pady=5)\n",
    "\n",
    "root.mainloop()\n",
    "\n",
    "\n"
   ]
  },
  {
   "cell_type": "code",
   "execution_count": null,
   "metadata": {},
   "outputs": [],
   "source": []
  }
 ],
 "metadata": {
  "kernelspec": {
   "display_name": "CodingClass2025",
   "language": "python",
   "name": "python3"
  },
  "language_info": {
   "codemirror_mode": {
    "name": "ipython",
    "version": 3
   },
   "file_extension": ".py",
   "mimetype": "text/x-python",
   "name": "python",
   "nbconvert_exporter": "python",
   "pygments_lexer": "ipython3",
   "version": "3.11.9"
  }
 },
 "nbformat": 4,
 "nbformat_minor": 2
}
